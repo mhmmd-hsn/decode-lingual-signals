{
 "cells": [
  {
   "cell_type": "code",
   "execution_count": null,
   "id": "1491cce4",
   "metadata": {},
   "outputs": [
    {
     "name": "stdout",
     "output_type": "stream",
     "text": [
      "[ 0  1  1  2  2  3  4  5  6  7  7  8  9  9 10 11  8 12 12 12 12 13 13 14\n",
      " 14 14 14 15  8  8 16 16 17 17 17 17 18 19 19 19 20 20 20 21 21 22  3  3\n",
      "  8 23 24 25 26 26 26 26  5 27 27 28 28 28 29 30 30 31 31 32 32 33 34 35\n",
      " 36 36 36 37 37 35 35 36 36 38 38 38 38 39 40 40 40 40 41 41 41 41 41 42\n",
      " 43 43 44  0]\n"
     ]
    }
   ],
   "source": []
  },
  {
   "cell_type": "code",
   "execution_count": null,
   "id": "5a83f544",
   "metadata": {},
   "outputs": [],
   "source": []
  }
 ],
 "metadata": {
  "kernelspec": {
   "display_name": "venv",
   "language": "python",
   "name": "python3"
  },
  "language_info": {
   "codemirror_mode": {
    "name": "ipython",
    "version": 3
   },
   "file_extension": ".py",
   "mimetype": "text/x-python",
   "name": "python",
   "nbconvert_exporter": "python",
   "pygments_lexer": "ipython3",
   "version": "3.10.10"
  }
 },
 "nbformat": 4,
 "nbformat_minor": 5
}
