{
 "cells": [
  {
   "cell_type": "code",
   "execution_count": 1,
   "id": "f4dc210e",
   "metadata": {},
   "outputs": [],
   "source": [
    "filename = 'D:/Code/DRAFT/zuco/task2-TSR/preprocessed/YAC/bip_YAC_TSR4_EEG.mat'"
   ]
  },
  {
   "cell_type": "code",
   "execution_count": 3,
   "id": "cfdc426e",
   "metadata": {},
   "outputs": [
    {
     "data": {
      "text/plain": [
       "<KeysViewHDF5 ['chaninfo', 'chanlocs', 'comments', 'condition', 'data', 'datfile', 'dipfit', 'epoch', 'epochdescription', 'etc', 'event', 'eventdescription', 'filename', 'filepath', 'group', 'history', 'icaact', 'icachansind', 'icasphere', 'icasplinefile', 'icaweights', 'icawinv', 'nbchan', 'pnts', 'ref', 'reject', 'saved', 'session', 'setname', 'specdata', 'specicaact', 'splinefile', 'srate', 'stats', 'subject', 'times', 'trials', 'urchanlocs', 'urevent', 'xmax', 'xmin']>"
      ]
     },
     "execution_count": 3,
     "metadata": {},
     "output_type": "execute_result"
    }
   ],
   "source": [
    "import h5py\n",
    "\n",
    "f = h5py.File(filename, 'r')\n",
    "f['EEG'].keys()"
   ]
  },
  {
   "cell_type": "code",
   "execution_count": 7,
   "id": "65fbb37a",
   "metadata": {},
   "outputs": [
    {
     "name": "stdout",
     "output_type": "stream",
     "text": [
      "Number of channels: 105\n",
      "First 10 channels: ['E2', 'E3', 'E4', 'E5', 'E6', 'E7', 'E9', 'E10', 'E11', 'E12']\n",
      "Channel 0: E2\n",
      "Channel 1: E3\n",
      "Channel 2: E4\n",
      "Channel 3: E5\n",
      "Channel 4: E6\n",
      "Channel 5: E7\n",
      "Channel 6: E9\n",
      "Channel 7: E10\n",
      "Channel 8: E11\n",
      "Channel 9: E12\n"
     ]
    }
   ],
   "source": [
    "import numpy as np\n",
    "import h5py\n",
    "\n",
    "# Open the file\n",
    "f = h5py.File(filename, 'r')\n",
    "\n",
    "# Access the labels\n",
    "labels = f['EEG']['chanlocs']['labels']\n",
    "\n",
    "# Convert the labels to readable strings\n",
    "channel_names = []\n",
    "for i in range(labels.shape[0]):\n",
    "    # Get the reference\n",
    "    label_ref = labels[i, 0]\n",
    "    \n",
    "    # Dereference and get the data\n",
    "    label_data = f[label_ref][()]\n",
    "    \n",
    "    # The data appears to be ASCII values in a nested array format\n",
    "    # Convert ASCII values to characters\n",
    "    if isinstance(label_data, np.ndarray):\n",
    "        # Flatten the array and convert ASCII codes to characters\n",
    "        ascii_values = label_data.flatten()\n",
    "        # Filter out any zeros or newline characters\n",
    "        ascii_values = ascii_values[ascii_values > 0]\n",
    "        # Convert to string\n",
    "        channel_name = ''.join([chr(int(val)) for val in ascii_values if val != 10])  # 10 is newline\n",
    "    else:\n",
    "        # If it's already a string, try to parse it\n",
    "        label_str = str(label_data)\n",
    "        # Extract numbers from the string format '[[69]\\n [50]]'\n",
    "        import re\n",
    "        numbers = re.findall(r'\\d+', label_str)\n",
    "        channel_name = ''.join([chr(int(num)) for num in numbers])\n",
    "    \n",
    "    channel_names.append(channel_name)\n",
    "\n",
    "print(f\"Number of channels: {len(channel_names)}\")\n",
    "print(f\"First 10 channels: {channel_names[:10]}\")\n",
    "\n",
    "# Create a mapping dictionary\n",
    "channel_mapping = {i: name for i, name in enumerate(channel_names)}\n",
    "\n",
    "# Verify the decoding - channels should have names like 'E1', 'E2', etc.\n",
    "for i in range(min(10, len(channel_names))):\n",
    "    print(f\"Channel {i}: {channel_names[i]}\")"
   ]
  },
  {
   "cell_type": "code",
   "execution_count": 6,
   "id": "4db812e8",
   "metadata": {},
   "outputs": [
    {
     "name": "stdout",
     "output_type": "stream",
     "text": [
      "Labels shape: (105, 1)\n",
      "Labels dtype: object\n",
      "Channel 0: E\u00002\n",
      "Channel 1: E\u00003\n"
     ]
    }
   ],
   "source": [
    "# Alternative approach - check the exact structure of labels\n",
    "print(f\"Labels shape: {labels.shape}\")\n",
    "print(f\"Labels dtype: {labels.dtype}\")\n",
    "\n",
    "# If labels are stored as a 2D array of references\n",
    "channel_names = []\n",
    "for i in range(105):  # or labels.shape[0]\n",
    "    try:\n",
    "        # Try different ways to access the label\n",
    "        if labels.shape == (105, 1):\n",
    "            label_ref = labels[i, 0]\n",
    "        else:\n",
    "            label_ref = labels[i]\n",
    "        \n",
    "        # Dereference and decode\n",
    "        label_str = f[label_ref][()].tobytes().decode('utf-8').strip('\\x00')\n",
    "        channel_names.append(label_str)\n",
    "    except Exception as e:\n",
    "        print(f\"Error at index {i}: {e}\")\n",
    "\n",
    "# Create a mapping dictionary for easy lookup\n",
    "channel_mapping = {i: name for i, name in enumerate(channel_names)}\n",
    "print(f\"Channel 0: {channel_mapping[0]}\")\n",
    "print(f\"Channel 1: {channel_mapping[1]}\")"
   ]
  },
  {
   "cell_type": "code",
   "execution_count": 8,
   "id": "407bcbbc",
   "metadata": {},
   "outputs": [
    {
     "name": "stdout",
     "output_type": "stream",
     "text": [
      "Channel mapping saved to eeg_channel_mapping.json\n",
      "Total channels: 105\n",
      "First 10 channels: ['E2', 'E3', 'E4', 'E5', 'E6', 'E7', 'E9', 'E10', 'E11', 'E12']\n",
      "Last 5 channels: ['E121', 'E122', 'E123', 'E124', 'Cz']\n",
      "\n",
      "JSON file contains 105 channels\n",
      "Sample mapping (first 5):\n",
      "  Index 0 -> Channel 'E2'\n",
      "  Index 1 -> Channel 'E3'\n",
      "  Index 2 -> Channel 'E4'\n",
      "  Index 3 -> Channel 'E5'\n",
      "  Index 4 -> Channel 'E6'\n"
     ]
    }
   ],
   "source": [
    "import numpy as np\n",
    "import h5py\n",
    "import json\n",
    "import re\n",
    "\n",
    "# Open the file\n",
    "f = h5py.File(filename, 'r')\n",
    "\n",
    "# Access the labels\n",
    "labels = f['EEG']['chanlocs']['labels']\n",
    "\n",
    "# Convert the labels to readable strings\n",
    "channel_names = []\n",
    "for i in range(labels.shape[0]):\n",
    "    # Get the reference\n",
    "    label_ref = labels[i, 0]\n",
    "    \n",
    "    # Dereference and get the data\n",
    "    label_data = f[label_ref][()]\n",
    "    \n",
    "    # Convert ASCII values to characters\n",
    "    if isinstance(label_data, np.ndarray):\n",
    "        # Flatten the array and convert ASCII codes to characters\n",
    "        ascii_values = label_data.flatten()\n",
    "        # Filter out any zeros or newline characters (10 is newline)\n",
    "        ascii_values = ascii_values[(ascii_values > 0) & (ascii_values != 10)]\n",
    "        # Convert to string\n",
    "        channel_name = ''.join([chr(int(val)) for val in ascii_values])\n",
    "    else:\n",
    "        # If it's already a string, try to parse it\n",
    "        label_str = str(label_data)\n",
    "        # Extract numbers from the string format '[[69]\\n [50]]'\n",
    "        numbers = re.findall(r'\\d+', label_str)\n",
    "        # Convert ASCII codes to characters\n",
    "        channel_name = ''.join([chr(int(num)) for num in numbers if int(num) != 10])\n",
    "    \n",
    "    channel_names.append(channel_name.strip())\n",
    "\n",
    "# Create a dictionary with index as key and channel name as value\n",
    "channel_dict = {i: name for i, name in enumerate(channel_names)}\n",
    "\n",
    "# Also create a reverse mapping (channel name to index)\n",
    "channel_to_index = {name: i for i, name in enumerate(channel_names)}\n",
    "\n",
    "# Create a comprehensive dictionary with both mappings\n",
    "channel_mapping = {\n",
    "    \"index_to_channel\": channel_dict,\n",
    "    \"channel_to_index\": channel_to_index,\n",
    "    \"channel_list\": channel_names,\n",
    "    \"total_channels\": len(channel_names)\n",
    "}\n",
    "\n",
    "# Save to JSON file\n",
    "output_filename = \"eeg_channel_mapping.json\"\n",
    "with open(output_filename, 'w') as json_file:\n",
    "    json.dump(channel_mapping, json_file, indent=2)\n",
    "\n",
    "print(f\"Channel mapping saved to {output_filename}\")\n",
    "print(f\"Total channels: {len(channel_names)}\")\n",
    "print(f\"First 10 channels: {channel_names[:10]}\")\n",
    "print(f\"Last 5 channels: {channel_names[-5:]}\")\n",
    "\n",
    "# Close the HDF5 file\n",
    "f.close()\n",
    "\n",
    "# Verify the JSON file was created correctly\n",
    "with open(output_filename, 'r') as json_file:\n",
    "    loaded_data = json.load(json_file)\n",
    "    print(f\"\\nJSON file contains {loaded_data['total_channels']} channels\")\n",
    "    print(\"Sample mapping (first 5):\")\n",
    "    for i in range(min(5, loaded_data['total_channels'])):\n",
    "        print(f\"  Index {i} -> Channel '{loaded_data['index_to_channel'][str(i)]}'\")"
   ]
  },
  {
   "cell_type": "code",
   "execution_count": null,
   "id": "78004aa1",
   "metadata": {},
   "outputs": [],
   "source": []
  }
 ],
 "metadata": {
  "kernelspec": {
   "display_name": "venv",
   "language": "python",
   "name": "python3"
  },
  "language_info": {
   "codemirror_mode": {
    "name": "ipython",
    "version": 3
   },
   "file_extension": ".py",
   "mimetype": "text/x-python",
   "name": "python",
   "nbconvert_exporter": "python",
   "pygments_lexer": "ipython3",
   "version": "3.10.10"
  }
 },
 "nbformat": 4,
 "nbformat_minor": 5
}
