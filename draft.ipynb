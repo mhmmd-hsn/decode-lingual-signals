{
 "cells": [
  {
   "cell_type": "code",
   "execution_count": 4,
   "id": "f4dc210e",
   "metadata": {},
   "outputs": [],
   "source": [
    "\n",
    "import torch\n",
    "from torch.utils.data import Dataset\n",
    "import numpy as np\n",
    "\n",
    "\n",
    "class SimpleEEGDataset(Dataset):\n",
    "    \"\"\"Simple dataset to load pre-processed numpy arrays\"\"\"\n",
    "    def __init__(self, features_path='zuco/features.npy', labels_path='zuco/labels.npy', connections_path='zuco/connections.npy'):\n",
    "        # Load the numpy arrays\n",
    "        self.features = np.load(features_path)  # Shape: (50, 12, 250)\n",
    "        self.labels = np.load(labels_path)      # Shape: (50,)\n",
    "        self.connections = np.load(connections_path)  # Shape: (50, 12, 12)\n",
    "        \n",
    "        print(f\"Loaded dataset:\")\n",
    "        print(f\"Features shape: {self.features.shape}\")\n",
    "        print(f\"Labels shape: {self.labels.shape}\")\n",
    "        print(f\"Connections shape: {self.connections.shape}\")\n",
    "        \n",
    "        # Verify shapes match\n",
    "        assert self.features.shape[0] == self.labels.shape[0] == self.connections.shape[0], \\\n",
    "            \"Number of samples must match across features, labels, and connections\"\n",
    "    \n",
    "    def __len__(self):\n",
    "        return self.features.shape[0]\n",
    "    \n",
    "    def __getitem__(self, idx):\n",
    "        # Return feature matrix, adjacency matrix, and label\n",
    "        feature_matrix = torch.as_tensor(self.features[idx], dtype=torch.float32)\n",
    "        adjacency_matrix = torch.as_tensor(self.connections[idx], dtype=torch.float32)\n",
    "        label = torch.as_tensor(self.labels[idx], dtype=torch.long)\n",
    "        return feature_matrix, adjacency_matrix, label\n"
   ]
  },
  {
   "cell_type": "code",
   "execution_count": 6,
   "id": "533f62e0",
   "metadata": {},
   "outputs": [
    {
     "name": "stdout",
     "output_type": "stream",
     "text": [
      "Loaded dataset:\n",
      "Features shape: (100, 12, 250)\n",
      "Labels shape: (100,)\n",
      "Connections shape: (100, 12, 12)\n"
     ]
    }
   ],
   "source": [
    "dataset = SimpleEEGDataset(\n",
    "    features_path= 'zuco/features.npy',\n",
    "    labels_path='zuco/labels.npy',\n",
    "    connections_path= 'zuco/connections.npy'\n",
    "    )"
   ]
  },
  {
   "cell_type": "code",
   "execution_count": 8,
   "id": "44260ff5",
   "metadata": {},
   "outputs": [
    {
     "name": "stdout",
     "output_type": "stream",
     "text": [
      "(100,)\n"
     ]
    }
   ],
   "source": [
    "print(dataset.labels.shape)"
   ]
  },
  {
   "cell_type": "code",
   "execution_count": null,
   "id": "1f1141b9",
   "metadata": {},
   "outputs": [
    {
     "name": "stdout",
     "output_type": "stream",
     "text": [
      "Sentence 0: <HDF5 dataset \"b\": shape (121, 1), type \"<u2\">\n",
      "Sentence 1: <HDF5 dataset \"c\": shape (43, 1), type \"<u2\">\n"
     ]
    }
   ],
   "source": [
    "import h5py\n",
    "from zuco_loader import load_matlab_string\n",
    "\n",
    "\n",
    "with h5py.File('zuco/resultsYAC_TSR.mat', 'r') as f:\n",
    "\n",
    "    # 2. Get sentence data\n",
    "    sentence_data = f['sentenceData']\n",
    "    contentData = sentence_data['content']\n",
    "    \n",
    "    # 3. Loop through ANY sentence you want\n",
    "    for idx in range(len(contentData)):  # This goes through ALL sentences\n",
    "        obj_reference_content = contentData[idx][0]  # Get reference to sentence idx\n",
    "        sentence_string = load_matlab_string(f[obj_reference_content])  # Get actual sentence\n",
    "        \n",
    "        # Now you have the sentence!\n",
    "        print(f\"Sentence {idx}: {sentence_string}\")\n"
   ]
  },
  {
   "cell_type": "code",
   "execution_count": null,
   "id": "b1347e53",
   "metadata": {},
   "outputs": [],
   "source": []
  }
 ],
 "metadata": {
  "kernelspec": {
   "display_name": "venv",
   "language": "python",
   "name": "python3"
  },
  "language_info": {
   "codemirror_mode": {
    "name": "ipython",
    "version": 3
   },
   "file_extension": ".py",
   "mimetype": "text/x-python",
   "name": "python",
   "nbconvert_exporter": "python",
   "pygments_lexer": "ipython3",
   "version": "3.10.10"
  }
 },
 "nbformat": 4,
 "nbformat_minor": 5
}
